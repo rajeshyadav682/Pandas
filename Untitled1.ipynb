{
 "cells": [
  {
   "cell_type": "code",
   "execution_count": 1,
   "id": "e33069c4",
   "metadata": {},
   "outputs": [],
   "source": [
    "import pandas as pd\n",
    "import numpy as pd"
   ]
  },
  {
   "cell_type": "code",
   "execution_count": 2,
   "id": "33db0745",
   "metadata": {},
   "outputs": [],
   "source": [
    "import pandas as pd\n",
    "import numpy as np"
   ]
  },
  {
   "cell_type": "code",
   "execution_count": 3,
   "id": "a4119d1d",
   "metadata": {},
   "outputs": [],
   "source": [
    "dict={\n",
    "    \"Name\":['Rajesh','Anubhav','Rahul','suresh'],\n",
    "    \"Marks\":[76,46,97,49],\n",
    "    \"City\":['GGN','UP','DELHI','UP']\n",
    "}"
   ]
  },
  {
   "cell_type": "code",
   "execution_count": 4,
   "id": "8ff4ff05",
   "metadata": {},
   "outputs": [],
   "source": [
    "df=pd.DataFrame(dict)"
   ]
  },
  {
   "cell_type": "code",
   "execution_count": 5,
   "id": "57d27098",
   "metadata": {},
   "outputs": [
    {
     "data": {
      "text/html": [
       "<div>\n",
       "<style scoped>\n",
       "    .dataframe tbody tr th:only-of-type {\n",
       "        vertical-align: middle;\n",
       "    }\n",
       "\n",
       "    .dataframe tbody tr th {\n",
       "        vertical-align: top;\n",
       "    }\n",
       "\n",
       "    .dataframe thead th {\n",
       "        text-align: right;\n",
       "    }\n",
       "</style>\n",
       "<table border=\"1\" class=\"dataframe\">\n",
       "  <thead>\n",
       "    <tr style=\"text-align: right;\">\n",
       "      <th></th>\n",
       "      <th>Name</th>\n",
       "      <th>Marks</th>\n",
       "      <th>City</th>\n",
       "    </tr>\n",
       "  </thead>\n",
       "  <tbody>\n",
       "    <tr>\n",
       "      <th>0</th>\n",
       "      <td>Rajesh</td>\n",
       "      <td>76</td>\n",
       "      <td>GGN</td>\n",
       "    </tr>\n",
       "    <tr>\n",
       "      <th>1</th>\n",
       "      <td>Anubhav</td>\n",
       "      <td>46</td>\n",
       "      <td>UP</td>\n",
       "    </tr>\n",
       "    <tr>\n",
       "      <th>2</th>\n",
       "      <td>Rahul</td>\n",
       "      <td>97</td>\n",
       "      <td>DELHI</td>\n",
       "    </tr>\n",
       "    <tr>\n",
       "      <th>3</th>\n",
       "      <td>suresh</td>\n",
       "      <td>49</td>\n",
       "      <td>UP</td>\n",
       "    </tr>\n",
       "  </tbody>\n",
       "</table>\n",
       "</div>"
      ],
      "text/plain": [
       "      Name  Marks   City\n",
       "0   Rajesh     76    GGN\n",
       "1  Anubhav     46     UP\n",
       "2    Rahul     97  DELHI\n",
       "3   suresh     49     UP"
      ]
     },
     "execution_count": 5,
     "metadata": {},
     "output_type": "execute_result"
    }
   ],
   "source": [
    "df"
   ]
  },
  {
   "cell_type": "code",
   "execution_count": 6,
   "id": "e1501c7f",
   "metadata": {},
   "outputs": [],
   "source": [
    "df.to_csv('name.csv')"
   ]
  },
  {
   "cell_type": "code",
   "execution_count": 7,
   "id": "a8d68de8",
   "metadata": {},
   "outputs": [],
   "source": [
    "df.to_csv('name.csv',index=False)"
   ]
  },
  {
   "cell_type": "code",
   "execution_count": 8,
   "id": "70843927",
   "metadata": {},
   "outputs": [
    {
     "data": {
      "text/html": [
       "<div>\n",
       "<style scoped>\n",
       "    .dataframe tbody tr th:only-of-type {\n",
       "        vertical-align: middle;\n",
       "    }\n",
       "\n",
       "    .dataframe tbody tr th {\n",
       "        vertical-align: top;\n",
       "    }\n",
       "\n",
       "    .dataframe thead th {\n",
       "        text-align: right;\n",
       "    }\n",
       "</style>\n",
       "<table border=\"1\" class=\"dataframe\">\n",
       "  <thead>\n",
       "    <tr style=\"text-align: right;\">\n",
       "      <th></th>\n",
       "      <th>Name</th>\n",
       "      <th>Marks</th>\n",
       "      <th>City</th>\n",
       "    </tr>\n",
       "  </thead>\n",
       "  <tbody>\n",
       "    <tr>\n",
       "      <th>0</th>\n",
       "      <td>Rajesh</td>\n",
       "      <td>76</td>\n",
       "      <td>GGN</td>\n",
       "    </tr>\n",
       "    <tr>\n",
       "      <th>1</th>\n",
       "      <td>Anubhav</td>\n",
       "      <td>46</td>\n",
       "      <td>UP</td>\n",
       "    </tr>\n",
       "  </tbody>\n",
       "</table>\n",
       "</div>"
      ],
      "text/plain": [
       "      Name  Marks City\n",
       "0   Rajesh     76  GGN\n",
       "1  Anubhav     46   UP"
      ]
     },
     "execution_count": 8,
     "metadata": {},
     "output_type": "execute_result"
    }
   ],
   "source": [
    "df.head(2)"
   ]
  },
  {
   "cell_type": "code",
   "execution_count": 9,
   "id": "bff799de",
   "metadata": {},
   "outputs": [
    {
     "data": {
      "text/html": [
       "<div>\n",
       "<style scoped>\n",
       "    .dataframe tbody tr th:only-of-type {\n",
       "        vertical-align: middle;\n",
       "    }\n",
       "\n",
       "    .dataframe tbody tr th {\n",
       "        vertical-align: top;\n",
       "    }\n",
       "\n",
       "    .dataframe thead th {\n",
       "        text-align: right;\n",
       "    }\n",
       "</style>\n",
       "<table border=\"1\" class=\"dataframe\">\n",
       "  <thead>\n",
       "    <tr style=\"text-align: right;\">\n",
       "      <th></th>\n",
       "      <th>Name</th>\n",
       "      <th>Marks</th>\n",
       "      <th>City</th>\n",
       "    </tr>\n",
       "  </thead>\n",
       "  <tbody>\n",
       "    <tr>\n",
       "      <th>0</th>\n",
       "      <td>Rajesh</td>\n",
       "      <td>76</td>\n",
       "      <td>GGN</td>\n",
       "    </tr>\n",
       "    <tr>\n",
       "      <th>1</th>\n",
       "      <td>Anubhav</td>\n",
       "      <td>46</td>\n",
       "      <td>UP</td>\n",
       "    </tr>\n",
       "    <tr>\n",
       "      <th>2</th>\n",
       "      <td>Rahul</td>\n",
       "      <td>97</td>\n",
       "      <td>DELHI</td>\n",
       "    </tr>\n",
       "    <tr>\n",
       "      <th>3</th>\n",
       "      <td>suresh</td>\n",
       "      <td>49</td>\n",
       "      <td>UP</td>\n",
       "    </tr>\n",
       "  </tbody>\n",
       "</table>\n",
       "</div>"
      ],
      "text/plain": [
       "      Name  Marks   City\n",
       "0   Rajesh     76    GGN\n",
       "1  Anubhav     46     UP\n",
       "2    Rahul     97  DELHI\n",
       "3   suresh     49     UP"
      ]
     },
     "execution_count": 9,
     "metadata": {},
     "output_type": "execute_result"
    }
   ],
   "source": [
    "df"
   ]
  },
  {
   "cell_type": "code",
   "execution_count": 10,
   "id": "1b72bf0c",
   "metadata": {},
   "outputs": [
    {
     "data": {
      "text/plain": [
       "<bound method NDFrame.describe of       Name  Marks   City\n",
       "0   Rajesh     76    GGN\n",
       "1  Anubhav     46     UP\n",
       "2    Rahul     97  DELHI\n",
       "3   suresh     49     UP>"
      ]
     },
     "execution_count": 10,
     "metadata": {},
     "output_type": "execute_result"
    }
   ],
   "source": [
    "df.describe"
   ]
  },
  {
   "cell_type": "code",
   "execution_count": 11,
   "id": "56702144",
   "metadata": {},
   "outputs": [
    {
     "ename": "SyntaxError",
     "evalue": "invalid syntax (2859068892.py, line 1)",
     "output_type": "error",
     "traceback": [
      "\u001b[1;36m  Cell \u001b[1;32mIn [11], line 1\u001b[1;36m\u001b[0m\n\u001b[1;33m    df..index=['first','second']\u001b[0m\n\u001b[1;37m       ^\u001b[0m\n\u001b[1;31mSyntaxError\u001b[0m\u001b[1;31m:\u001b[0m invalid syntax\n"
     ]
    }
   ],
   "source": [
    "df..index=['first','second']"
   ]
  },
  {
   "cell_type": "code",
   "execution_count": null,
   "id": "020b9cf4",
   "metadata": {},
   "outputs": [],
   "source": [
    "df.index=['first','second']"
   ]
  },
  {
   "cell_type": "code",
   "execution_count": null,
   "id": "3f5919a8",
   "metadata": {},
   "outputs": [],
   "source": [
    "df"
   ]
  },
  {
   "cell_type": "code",
   "execution_count": null,
   "id": "be8a77d2",
   "metadata": {},
   "outputs": [],
   "source": [
    "        df..index=['first','second','third','fourth']"
   ]
  },
  {
   "cell_type": "code",
   "execution_count": null,
   "id": "220d9824",
   "metadata": {},
   "outputs": [],
   "source": [
    "df.index=['first','second','third','fourth']"
   ]
  },
  {
   "cell_type": "code",
   "execution_count": null,
   "id": "2acec407",
   "metadata": {},
   "outputs": [],
   "source": [
    "df\n"
   ]
  },
  {
   "cell_type": "code",
   "execution_count": null,
   "id": "1211a51c",
   "metadata": {},
   "outputs": [],
   "source": [
    " ser = pd.seris"
   ]
  },
  {
   "cell_type": "code",
   "execution_count": null,
   "id": "8a98f44d",
   "metadata": {},
   "outputs": [],
   "source": [
    "ser = pd.series(np.random.rand)"
   ]
  },
  {
   "cell_type": "code",
   "execution_count": null,
   "id": "151909ff",
   "metadata": {},
   "outputs": [],
   "source": [
    "ser = pd.Series(np.random.rand)"
   ]
  },
  {
   "cell_type": "code",
   "execution_count": null,
   "id": "7df0a77a",
   "metadata": {},
   "outputs": [],
   "source": [
    "ser"
   ]
  },
  {
   "cell_type": "code",
   "execution_count": 12,
   "id": "dbb2c362",
   "metadata": {},
   "outputs": [],
   "source": [
    "ser = pd.Series(np.random.rand(50))"
   ]
  },
  {
   "cell_type": "code",
   "execution_count": 13,
   "id": "2c98e00a",
   "metadata": {},
   "outputs": [
    {
     "data": {
      "text/plain": [
       "0     0.778578\n",
       "1     0.110250\n",
       "2     0.134304\n",
       "3     0.645670\n",
       "4     0.123875\n",
       "5     0.584351\n",
       "6     0.538397\n",
       "7     0.822090\n",
       "8     0.284502\n",
       "9     0.600819\n",
       "10    0.781662\n",
       "11    0.290263\n",
       "12    0.355333\n",
       "13    0.940674\n",
       "14    0.308888\n",
       "15    0.635709\n",
       "16    0.922646\n",
       "17    0.283867\n",
       "18    0.142297\n",
       "19    0.255362\n",
       "20    0.083179\n",
       "21    0.365792\n",
       "22    0.367117\n",
       "23    0.667623\n",
       "24    0.058570\n",
       "25    0.842148\n",
       "26    0.593103\n",
       "27    0.760402\n",
       "28    0.961059\n",
       "29    0.194674\n",
       "30    0.818787\n",
       "31    0.154839\n",
       "32    0.471097\n",
       "33    0.270100\n",
       "34    0.705503\n",
       "35    0.590802\n",
       "36    0.633869\n",
       "37    0.567792\n",
       "38    0.730330\n",
       "39    0.120703\n",
       "40    0.221268\n",
       "41    0.064407\n",
       "42    0.486091\n",
       "43    0.911759\n",
       "44    0.253194\n",
       "45    0.142281\n",
       "46    0.223586\n",
       "47    0.016968\n",
       "48    0.703120\n",
       "49    0.011687\n",
       "dtype: float64"
      ]
     },
     "execution_count": 13,
     "metadata": {},
     "output_type": "execute_result"
    }
   ],
   "source": [
    "ser"
   ]
  },
  {
   "cell_type": "code",
   "execution_count": 14,
   "id": "1710aeac",
   "metadata": {},
   "outputs": [
    {
     "data": {
      "text/plain": [
       "pandas.core.series.Series"
      ]
     },
     "execution_count": 14,
     "metadata": {},
     "output_type": "execute_result"
    }
   ],
   "source": [
    "type(ser)"
   ]
  },
  {
   "cell_type": "code",
   "execution_count": 15,
   "id": "34cc0730",
   "metadata": {},
   "outputs": [],
   "source": [
    "newdf=pd.DataFrame(np.random.rand(334,5),index=np.arange(334))"
   ]
  },
  {
   "cell_type": "code",
   "execution_count": 16,
   "id": "dae192e9",
   "metadata": {},
   "outputs": [
    {
     "data": {
      "text/html": [
       "<div>\n",
       "<style scoped>\n",
       "    .dataframe tbody tr th:only-of-type {\n",
       "        vertical-align: middle;\n",
       "    }\n",
       "\n",
       "    .dataframe tbody tr th {\n",
       "        vertical-align: top;\n",
       "    }\n",
       "\n",
       "    .dataframe thead th {\n",
       "        text-align: right;\n",
       "    }\n",
       "</style>\n",
       "<table border=\"1\" class=\"dataframe\">\n",
       "  <thead>\n",
       "    <tr style=\"text-align: right;\">\n",
       "      <th></th>\n",
       "      <th>0</th>\n",
       "      <th>1</th>\n",
       "      <th>2</th>\n",
       "      <th>3</th>\n",
       "      <th>4</th>\n",
       "    </tr>\n",
       "  </thead>\n",
       "  <tbody>\n",
       "    <tr>\n",
       "      <th>0</th>\n",
       "      <td>0.874186</td>\n",
       "      <td>0.987010</td>\n",
       "      <td>0.188719</td>\n",
       "      <td>0.149374</td>\n",
       "      <td>0.380005</td>\n",
       "    </tr>\n",
       "    <tr>\n",
       "      <th>1</th>\n",
       "      <td>0.562203</td>\n",
       "      <td>0.159330</td>\n",
       "      <td>0.633733</td>\n",
       "      <td>0.956476</td>\n",
       "      <td>0.449394</td>\n",
       "    </tr>\n",
       "    <tr>\n",
       "      <th>2</th>\n",
       "      <td>0.956744</td>\n",
       "      <td>0.825853</td>\n",
       "      <td>0.029686</td>\n",
       "      <td>0.693045</td>\n",
       "      <td>0.564922</td>\n",
       "    </tr>\n",
       "    <tr>\n",
       "      <th>3</th>\n",
       "      <td>0.421882</td>\n",
       "      <td>0.272154</td>\n",
       "      <td>0.574152</td>\n",
       "      <td>0.239008</td>\n",
       "      <td>0.223830</td>\n",
       "    </tr>\n",
       "    <tr>\n",
       "      <th>4</th>\n",
       "      <td>0.735846</td>\n",
       "      <td>0.320605</td>\n",
       "      <td>0.441539</td>\n",
       "      <td>0.325847</td>\n",
       "      <td>0.937699</td>\n",
       "    </tr>\n",
       "    <tr>\n",
       "      <th>...</th>\n",
       "      <td>...</td>\n",
       "      <td>...</td>\n",
       "      <td>...</td>\n",
       "      <td>...</td>\n",
       "      <td>...</td>\n",
       "    </tr>\n",
       "    <tr>\n",
       "      <th>329</th>\n",
       "      <td>0.855630</td>\n",
       "      <td>0.555594</td>\n",
       "      <td>0.759369</td>\n",
       "      <td>0.302819</td>\n",
       "      <td>0.092388</td>\n",
       "    </tr>\n",
       "    <tr>\n",
       "      <th>330</th>\n",
       "      <td>0.135296</td>\n",
       "      <td>0.407475</td>\n",
       "      <td>0.770243</td>\n",
       "      <td>0.234648</td>\n",
       "      <td>0.776292</td>\n",
       "    </tr>\n",
       "    <tr>\n",
       "      <th>331</th>\n",
       "      <td>0.632414</td>\n",
       "      <td>0.052208</td>\n",
       "      <td>0.922509</td>\n",
       "      <td>0.936803</td>\n",
       "      <td>0.969851</td>\n",
       "    </tr>\n",
       "    <tr>\n",
       "      <th>332</th>\n",
       "      <td>0.310884</td>\n",
       "      <td>0.349612</td>\n",
       "      <td>0.747052</td>\n",
       "      <td>0.703180</td>\n",
       "      <td>0.458425</td>\n",
       "    </tr>\n",
       "    <tr>\n",
       "      <th>333</th>\n",
       "      <td>0.667674</td>\n",
       "      <td>0.073056</td>\n",
       "      <td>0.520472</td>\n",
       "      <td>0.986933</td>\n",
       "      <td>0.994610</td>\n",
       "    </tr>\n",
       "  </tbody>\n",
       "</table>\n",
       "<p>334 rows × 5 columns</p>\n",
       "</div>"
      ],
      "text/plain": [
       "            0         1         2         3         4\n",
       "0    0.874186  0.987010  0.188719  0.149374  0.380005\n",
       "1    0.562203  0.159330  0.633733  0.956476  0.449394\n",
       "2    0.956744  0.825853  0.029686  0.693045  0.564922\n",
       "3    0.421882  0.272154  0.574152  0.239008  0.223830\n",
       "4    0.735846  0.320605  0.441539  0.325847  0.937699\n",
       "..        ...       ...       ...       ...       ...\n",
       "329  0.855630  0.555594  0.759369  0.302819  0.092388\n",
       "330  0.135296  0.407475  0.770243  0.234648  0.776292\n",
       "331  0.632414  0.052208  0.922509  0.936803  0.969851\n",
       "332  0.310884  0.349612  0.747052  0.703180  0.458425\n",
       "333  0.667674  0.073056  0.520472  0.986933  0.994610\n",
       "\n",
       "[334 rows x 5 columns]"
      ]
     },
     "execution_count": 16,
     "metadata": {},
     "output_type": "execute_result"
    }
   ],
   "source": [
    "newdf"
   ]
  },
  {
   "cell_type": "code",
   "execution_count": null,
   "id": "c927537a",
   "metadata": {},
   "outputs": [],
   "source": []
  }
 ],
 "metadata": {
  "kernelspec": {
   "display_name": "Python 3 (ipykernel)",
   "language": "python",
   "name": "python3"
  },
  "language_info": {
   "codemirror_mode": {
    "name": "ipython",
    "version": 3
   },
   "file_extension": ".py",
   "mimetype": "text/x-python",
   "name": "python",
   "nbconvert_exporter": "python",
   "pygments_lexer": "ipython3",
   "version": "3.10.7"
  }
 },
 "nbformat": 4,
 "nbformat_minor": 5
}
